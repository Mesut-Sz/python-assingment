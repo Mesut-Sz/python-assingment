{
 "metadata": {
  "language_info": {
   "codemirror_mode": {
    "name": "ipython",
    "version": 3
   },
   "file_extension": ".py",
   "mimetype": "text/x-python",
   "name": "python",
   "nbconvert_exporter": "python",
   "pygments_lexer": "ipython3",
   "version": "3.8.3-final"
  },
  "orig_nbformat": 2,
  "kernelspec": {
   "name": "python383jvsc74a57bd03a93997784c935b3f01901c71333f0ba023a370a2057e5b65fd568291dadd8c7",
   "display_name": "Python 3.8.3 32-bit"
  },
  "metadata": {
   "interpreter": {
    "hash": "3a93997784c935b3f01901c71333f0ba023a370a2057e5b65fd568291dadd8c7"
   }
  }
 },
 "nbformat": 4,
 "nbformat_minor": 2,
 "cells": [
  {
   "cell_type": "code",
   "execution_count": null,
   "metadata": {},
   "outputs": [],
   "source": [
    "After finishing the task correctly, then submit your answer (code) as plain text which shows you did correctly.\n",
    "Task : Find out if the given word is \"comfortable words\" in relation to the ten-finger keyboard use.\n",
    "\n",
    "    A comfortable word is a word which you can type always alternating the hand you type with (assuming you type using a Q-keyboard and use of the ten-fingers standard).\n",
    "    The word will always be a string consisting of only letters from a to z.\n",
    "    Write a program which returns True if it's a comfortable word or False otherwise."
   ]
  },
  {
   "cell_type": "code",
   "execution_count": null,
   "metadata": {},
   "outputs": [],
   "source": [
    "\n",
    "\n",
    "word = str(input(\"enter a word which lear hois comfortable or not:\"))\n",
    "for i in word:\n",
    "    "
   ]
  },
  {
   "cell_type": "code",
   "execution_count": 2,
   "metadata": {},
   "outputs": [
    {
     "output_type": "stream",
     "name": "stdout",
     "text": [
      "False\n"
     ]
    }
   ],
   "source": [
    "right= [\"y\",\"u\", \"i\", \"o\", \"p\", \"h\", \"j\", \"k\", \"l\", \"n\", \"m\"]\n",
    "left= [\"q\", \"w\", \"e\", \"r\", \"t\",\"a\", \"s\", \"d\", \"f\", \"g\", \"z\", \"x\", \"c\", \"v\", \"b\"]\n",
    "word1 = set(\"car\")\n",
    "\n",
    "print(bool(word1.difference(left) and word1.difference(right)))"
   ]
  },
  {
   "cell_type": "code",
   "execution_count": 4,
   "metadata": {},
   "outputs": [
    {
     "output_type": "error",
     "ename": "SyntaxError",
     "evalue": "invalid character in identifier (<ipython-input-4-be17c5ec05cc>, line 1)",
     "traceback": [
      "\u001b[1;36m  File \u001b[1;32m\"<ipython-input-4-be17c5ec05cc>\"\u001b[1;36m, line \u001b[1;32m1\u001b[0m\n\u001b[1;33m    a = set(str(input(“Please enter a word: “)))\u001b[0m\n\u001b[1;37m                            ^\u001b[0m\n\u001b[1;31mSyntaxError\u001b[0m\u001b[1;31m:\u001b[0m invalid character in identifier\n"
     ]
    }
   ],
   "source": [
    "a = set(str(input(“Please enter a word: “)))\n",
    "c = set(“qwertasdfgzxcvb”)\n",
    "d = set(“yuıopğühjklşinmöç“)\n",
    "print(bool(a.intersection(c)) and bool(a.intersection(d))"
   ]
  },
  {
   "cell_type": "code",
   "execution_count": null,
   "metadata": {},
   "outputs": [],
   "source": [
    "l_words =set (\"q,w,e,r,t,a,s,d,f,g,z,x,c,v,b\".split(\",\"))\n",
    "r_words = set (\"y,u,i,o,p,h,j,k,l,n,m,ş,ı,ç,ö\".split(\",\"))\n",
    "user_str_set = set (input(\"Please write something:\"))\n",
    "print (\"Comfortable word?\", bool(l_words & user_str_set and r_words & user_str_set))"
   ]
  }
 ]
}