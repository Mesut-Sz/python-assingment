{
 "metadata": {
  "language_info": {
   "codemirror_mode": {
    "name": "ipython",
    "version": 3
   },
   "file_extension": ".py",
   "mimetype": "text/x-python",
   "name": "python",
   "nbconvert_exporter": "python",
   "pygments_lexer": "ipython3",
   "version": "3.8.3-final"
  },
  "orig_nbformat": 2,
  "kernelspec": {
   "name": "python383jvsc74a57bd03a93997784c935b3f01901c71333f0ba023a370a2057e5b65fd568291dadd8c7",
   "display_name": "Python 3.8.3 32-bit"
  },
  "metadata": {
   "interpreter": {
    "hash": "3a93997784c935b3f01901c71333f0ba023a370a2057e5b65fd568291dadd8c7"
   }
  }
 },
 "nbformat": 4,
 "nbformat_minor": 2,
 "cells": [
  {
   "cell_type": "code",
   "execution_count": 3,
   "metadata": {},
   "outputs": [
    {
     "output_type": "stream",
     "name": "stdout",
     "text": [
      "given list : [1, 3, 7, 4, 3, 0, 3, 6, 3]\nnumber which higest frequency : 3 \nfrequency is : 4\n"
     ]
    }
   ],
   "source": [
    "# To find the largest item in an iterable, we use this syntax:\n",
    "\n",
    "# max(iterable, *iterables, key, default)\n",
    "\n",
    "'''max() Parameters\n",
    "\n",
    "    iterable - an iterable such as list, tuple, set, dictionary, etc.\n",
    "\n",
    "    *iterables (optional) - any number of iterables; can be more than one\n",
    "\n",
    "    key (optional) - key function where the iterables are passed and comparison is performed based on its return value\n",
    "    \n",
    "    default (optional) - default value if the given iterable is empty'''\n",
    "\n",
    "\n",
    "numbers = [1, 3, 7, 4, 3, 0, 3, 6, 3]\n",
    "most_frequency_number = max(set(numbers), key=numbers.count)\n",
    "frequency = numbers.count(most_frequency_number)\n",
    "print(\"given list :\", numbers)\n",
    "print(\"number which higest frequency :\",most_frequency_number, \"\\nfrequency is :\", frequency)"
   ]
  },
  {
   "cell_type": "code",
   "execution_count": 2,
   "metadata": {},
   "outputs": [
    {
     "output_type": "stream",
     "name": "stdout",
     "text": [
      "{2, 3, 4, 6, 8, 9, 55}\n"
     ]
    }
   ],
   "source": [
    "numbers = [4,55,6,9,8,4,3,2,4]\n",
    "numbers=set(numbers)\n",
    "print(numbers)"
   ]
  },
  {
   "cell_type": "code",
   "execution_count": null,
   "metadata": {},
   "outputs": [],
   "source": []
  }
 ]
}